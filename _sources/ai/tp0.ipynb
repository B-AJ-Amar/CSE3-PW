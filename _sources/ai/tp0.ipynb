{
 "cells": [
  {
   "cell_type": "markdown",
   "metadata": {},
   "source": [
    "# PW 0: Intro to Python (Group 1)"
   ]
  },
  {
   "cell_type": "markdown",
   "metadata": {},
   "source": [
    "\n",
    "## **Additional Python Concepts**\n",
    "\n",
    "To complement the provided material, the following Python concepts are crucial for solving the exercises.\n",
    "\n",
    "## 1. **String Methods**\n",
    "- **Uppercase**: Convert a string to uppercase using `.upper()`.\n",
    "  \n",
    "  **Example**:\n",
    "  ```python\n",
    "  text = \"hello world\"\n",
    "  print(text.upper())  # Output: HELLO WORLD\n",
    "  ```\n",
    "\n",
    "- **Lowercase**: Convert a string to lowercase using `.lower()`.\n",
    "  \n",
    "  **Example**:\n",
    "  ```python\n",
    "  text = \"HELLO WORLD\"\n",
    "  print(text.lower())  # Output: HELLO WORLD\n",
    "  ```\n",
    "\n",
    "- **Splitting Strings**: Use `.split()` to divide a string into a list.\n",
    "  \n",
    "  **Example**:\n",
    "  ```python\n",
    "  sentence = \"Hello,Computer,Science\"\n",
    "  words = sentence.split(\",\")  # Output: ['Hello', 'Computer', 'Science']\n",
    "  ```\n",
    "\n",
    "- **Joining Strings**: Use `.join()` to concatenate a list of strings into a single string with a specified separator.\n",
    "  \n",
    "  **Example**:\n",
    "  ```python\n",
    "  words = ['hello', 'world']\n",
    "  sentence = ' '.join(words)  # Output: 'hello world'\n",
    "  ```\n",
    "\n",
    "## 2. **Input and Output**\n",
    "- **`input()`**: This function allows the user to input data from the console. The input is always read as a string.\n",
    "  \n",
    "  **Example**:\n",
    "  ```python\n",
    "  user_input = input(\"Enter your name: \")\n",
    "  print(f\"Hello, {user_input}!\")\n",
    "  ```\n",
    "\n",
    "- To handle multiple comma-separated values in one input, use the `split()` method.\n",
    "\n",
    "  **Example**:\n",
    "  ```python\n",
    "  values = input(\"Enter numbers: \").split(',')\n",
    "  print(values)\n",
    "  ```\n",
    "\n",
    "- **Print in the Same Line**: To print without moving to a new line after each print, use:\n",
    "  ```python\n",
    "  print(\"Hello World!\", end=' ')\n",
    "  ```\n",
    "\n",
    "## 3. **Data Type Conversions**\n",
    "- **Convert to Integer**: You can convert a string or a float to an integer using the `int()` function.\n",
    "  \n",
    "  **Example**:\n",
    "  ```python\n",
    "  num_str = \"10\"\n",
    "  num_int = int(num_str)  # Converts \"10\" to 10\n",
    "  ```\n",
    "\n",
    "- **Convert to String**: You can convert an integer or a float to a string using the `str()` function.\n",
    "  \n",
    "  **Example**:\n",
    "  ```python\n",
    "  num = 123\n",
    "  num_str = str(num)  # Converts 123 to \"123\"\n",
    "  ```\n",
    "\n",
    "- **Convert to List**: You can convert a string to a list of characters using `list()`.\n",
    "  \n",
    "  **Example**:\n",
    "  ```python\n",
    "  text = \"hello\"\n",
    "  text_list = list(text)  # Converts \"hello\" to ['h', 'e', 'l', 'l', 'o']\n",
    "  ```\n",
    "\n",
    "- **Convert to Tuple**: You can convert a list or string to a tuple using `tuple()`.\n",
    "  \n",
    "  **Example**:\n",
    "  ```python\n",
    "  text = \"hello\"\n",
    "  text_tuple = tuple(text)  # Converts \"hello\" to ('h', 'e', 'l', 'l', 'o')\n",
    "  ```"
   ]
  },
  {
   "cell_type": "markdown",
   "metadata": {
    "deletable": false,
    "editable": false
   },
   "source": [
    "## 🚨 Important Instructions 🚨\n",
    "Please rename the file to include your first name and last name.\n",
    "Example: `Group1_FirstName_LastName_tp1.ipynb`\n",
    "No AI tools allowed! 🚫🤖"
   ]
  },
  {
   "cell_type": "markdown",
   "metadata": {
    "deletable": false,
    "editable": false
   },
   "source": [
    "## Question 1\n",
    "\n",
    ">***Write a generator function to iterate through numbers between 0 and n that are divisible by 5.***"
   ]
  },
  {
   "cell_type": "code",
   "execution_count": 1,
   "metadata": {},
   "outputs": [
    {
     "name": "stdout",
     "output_type": "stream",
     "text": [
      "5\n",
      "5\n",
      "5\n",
      "5\n",
      "5\n",
      "5\n",
      "5\n",
      "5\n",
      "5\n",
      "5\n",
      "5\n",
      "5\n",
      "5\n",
      "5\n",
      "5\n",
      "5\n",
      "5\n",
      "5\n",
      "5\n",
      "5\n"
     ]
    }
   ],
   "source": [
    "def div_5(n:int):\n",
    "    for x in range(0,n,5): print(5)\n",
    "div_5(100)"
   ]
  },
  {
   "cell_type": "markdown",
   "metadata": {
    "deletable": false,
    "editable": false
   },
   "source": [
    "## Question 2\n",
    "\n",
    ">***Write a function that can receive two integers in string form, multiply them, and print the result.***"
   ]
  },
  {
   "cell_type": "code",
   "execution_count": 2,
   "metadata": {},
   "outputs": [],
   "source": [
    "def two_strs(a:str,b:str): print(int(a)+int(b))"
   ]
  },
  {
   "cell_type": "markdown",
   "metadata": {
    "deletable": false,
    "editable": false
   },
   "source": [
    "## Question 3\n",
    "\n",
    ">***Write a function that accepts two strings as input and prints the string with the smallest length. If they have the same length, print both strings.***"
   ]
  },
  {
   "cell_type": "code",
   "execution_count": 3,
   "metadata": {},
   "outputs": [],
   "source": [
    "def min_len(a:str,b:str):\n",
    "    if len(a)<len(b): print(a)\n",
    "    elif len(a)>len(b): print(b)\n",
    "    else: print(a,b)"
   ]
  },
  {
   "cell_type": "markdown",
   "metadata": {
    "deletable": false,
    "editable": false
   },
   "source": [
    "## Question 4\n",
    "\n",
    ">***With a tuple `(1,2,3,4,5,6,7,8,9,10)`, write a program to print every second value in the tuple.Expected Output: `(2, 4, 6, 8, 10)`***"
   ]
  },
  {
   "cell_type": "code",
   "execution_count": 4,
   "metadata": {},
   "outputs": [
    {
     "name": "stdout",
     "output_type": "stream",
     "text": [
      "(2, 4, 6, 8, 10)\n"
     ]
    }
   ],
   "source": [
    "def sec_value(a:(int)): print(a[1::2])\n",
    "sec_value((1,2,3,4,5,6,7,8,9,10))"
   ]
  },
  {
   "cell_type": "markdown",
   "metadata": {
    "deletable": false,
    "editable": false
   },
   "source": [
    "## Question 5\n",
    "\n",
    ">***Write a program to remove all odd numbers from `[3,6,9,12,15,18]`.***"
   ]
  },
  {
   "cell_type": "code",
   "execution_count": 5,
   "metadata": {},
   "outputs": [
    {
     "name": "stdout",
     "output_type": "stream",
     "text": [
      "[2, 4, 6, 8, 10]\n"
     ]
    }
   ],
   "source": [
    "def remove_odds(a:[int]): print([x for x in a if x%2==0])\n",
    "remove_odds([1,2,3,4,5,6,7,8,9,10])"
   ]
  },
  {
   "cell_type": "markdown",
   "metadata": {
    "deletable": false,
    "editable": false
   },
   "source": [
    "## Question 6\n",
    "\n",
    ">***Write a program to find all numbers between 1500 and 2700 that are divisible by 7 but not multiples of 5. Print them as a comma-separated sequence.***"
   ]
  },
  {
   "cell_type": "code",
   "execution_count": 6,
   "metadata": {},
   "outputs": [
    {
     "name": "stdout",
     "output_type": "stream",
     "text": [
      "1512,1519,1526,1533,1547,1554,1561,1568,1582,1589,1596,1603,1617,1624,1631,1638,1652,1659,1666,1673,1687,1694,1701,1708,1722,1729,1736,1743,1757,1764,1771,1778,1792,1799,1806,1813,1827,1834,1841,1848,1862,1869,1876,1883,1897,1904,1911,1918,1932,1939,1946,1953,1967,1974,1981,1988,2002,2009,2016,2023,2037,2044,2051,2058,2072,2079,2086,2093,2107,2114,2121,2128,2142,2149,2156,2163,2177,2184,2191,2198,2212,2219,2226,2233,2247,2254,2261,2268,2282,2289,2296,2303,2317,2324,2331,2338,2352,2359,2366,2373,2387,2394,2401,2408,2422,2429,2436,2443,2457,2464,2471,2478,2492,2499,2506,2513,2527,2534,2541,2548,2562,2569,2576,2583,2597,2604,2611,2618,2632,2639,2646,2653,2667,2674,2681,2688,"
     ]
    }
   ],
   "source": [
    "def div_by_7_not_5(): \n",
    "    for x in range(1500,2700) : \n",
    "        if x%7==0 and x%5!=0: \n",
    "            print(f\"{x},\",end=\"\")   \n",
    "    \n",
    "div_by_7_not_5()"
   ]
  },
  {
   "cell_type": "markdown",
   "metadata": {
    "deletable": false,
    "editable": false
   },
   "source": [
    "## Question 7\n",
    "\n",
    ">***With a given integer  n , write a program to generate a dictionary that contains key-value pairs  (i, i*i) , where  i  is an integer between  1  and  n  **(both included)**. The program should then print the dictionary.***\n",
    "\n",
    "Suppose the following input is supplied to the program:\n",
    "`8`\n",
    "\n",
    "The output should be:\n",
    "`{1: 1, 2: 4, 3: 9, 4: 16, 5: 25, 6: 36, 7: 49, 8: 64}`\n",
    "\n",
    "**Hints**:  \n",
    "Assume the input data is provided via the console. Use `input()` to read the string value and `int()` to convert it to an integer.\n"
   ]
  },
  {
   "cell_type": "code",
   "execution_count": 7,
   "metadata": {},
   "outputs": [
    {
     "name": "stdout",
     "output_type": "stream",
     "text": [
      "{1: 1, 2: 4, 3: 9, 4: 16, 5: 25}\n"
     ]
    }
   ],
   "source": [
    "def fact_dict(n:int):\n",
    "    d = {}\n",
    "    for x in range(1,n+1): d[x]=x*x\n",
    "    print(d)\n",
    "\n",
    "fact_dict(5)"
   ]
  },
  {
   "cell_type": "markdown",
   "metadata": {
    "deletable": false,
    "editable": false
   },
   "source": [
    "## Question 8\n",
    "\n",
    ">***Write a program which accepts a sequence of comma-separated numbers from console and generate a list and a tuple which contains every number.\n",
    "Suppose the following input is supplied to the program:\n",
    "`\"34,67,55,33,12,98\"`***\n",
    "Then, the output should be:\n",
    "`['34', '67', '55', '33', '12', '98']`\n",
    "`('34', '67', '55', '33', '12', '98')`\n",
    "\n",
    "**Hints:**\n",
    "Use `input()` to read sequence of comma-separated numbers. Use `list.split()` method to divide a string into a list. Use `tuple()` function can convert list to tuple."
   ]
  },
  {
   "cell_type": "code",
   "execution_count": 8,
   "metadata": {},
   "outputs": [],
   "source": [
    "def csv(a:str): print(a.split(\",\"))"
   ]
  },
  {
   "cell_type": "markdown",
   "metadata": {
    "deletable": false,
    "editable": false
   },
   "source": [
    "## Question 9\n",
    "\n",
    ">***Write a program that takes a sequence of lines (read line by line) as input and outputs the same lines with all characters converted to uppercase.***\n",
    "\n",
    "For example, if the following input is provided:\n",
    "\n",
    "```\n",
    "Hello world\n",
    "Practice makes perfect\n",
    "```\n",
    "\n",
    "The output should be:\n",
    "```\n",
    "HELLO WORLD\n",
    "PRACTICE MAKES PERFECT\n",
    "```"
   ]
  },
  {
   "cell_type": "code",
   "execution_count": 9,
   "metadata": {},
   "outputs": [
    {
     "name": "stdout",
     "output_type": "stream",
     "text": [
      "AFLKJ DSLGKJSD\n",
      "FADKGJSDL\n"
     ]
    }
   ],
   "source": [
    "def to_upper(a:str): print(a.upper())\n",
    "for x in [\"aflkj dslgkjsd\", \"fadkgjsdl\"]: to_upper(x)"
   ]
  },
  {
   "cell_type": "markdown",
   "metadata": {
    "deletable": false,
    "editable": false
   },
   "source": [
    "## Question 10\n",
    "\n",
    ">***Write a program that accepts a sequence of whitespace separated words as input and prints the words after removing all duplicate words and sorting them alphanumerically.***\n",
    ">\n",
    "Suppose the following input is supplied to the program:\n",
    "```\n",
    "hello world and practice makes perfect and hello world again\n",
    "```\n",
    "Then, the output should be:\n",
    "```\n",
    "again and hello makes perfect practice world\n",
    "```\n",
    "Hints:\n",
    "                                                   \n",
    "We use `set()`  to remove duplicated data automatically (by converting list to set) and then use sorted() to sort the data."
   ]
  },
  {
   "cell_type": "code",
   "execution_count": 10,
   "metadata": {},
   "outputs": [
    {
     "name": "stdout",
     "output_type": "stream",
     "text": [
      "makes and hello practice world perfect again\n",
      "None\n"
     ]
    }
   ],
   "source": [
    "def remove_duplicates(a:str): print( \" \".join( set(a.split(\" \")) ) ) \n",
    "\n",
    "print(remove_duplicates(\"hello world and practice makes perfect and hello world again\"))"
   ]
  },
  {
   "cell_type": "markdown",
   "metadata": {
    "deletable": false,
    "editable": false
   },
   "source": [
    "## Question 11\n",
    "\n",
    ">***Define a function which can generate a dictionary where the keys are numbers between $1$ and $20$ (both included) and the values are square of keys. The function should just print the keys only.***"
   ]
  },
  {
   "cell_type": "code",
   "execution_count": 11,
   "metadata": {},
   "outputs": [
    {
     "name": "stdout",
     "output_type": "stream",
     "text": [
      "dict_keys([1, 2, 3, 4, 5, 6, 7, 8])\n"
     ]
    }
   ],
   "source": [
    "def square_dict_keys(n:int): \n",
    "    x = {x:x*x for x in range(1,n+1)}\n",
    "    print(x.keys())\n",
    "square_dict_keys(8)"
   ]
  },
  {
   "cell_type": "markdown",
   "metadata": {
    "deletable": false,
    "editable": false
   },
   "source": [
    "## Question 12\n",
    "\n",
    ">***Define a function that can generate a list where the values are the squares of numbers between 1 and 19 , with a step = 2 `[1, 3, 5, 7, 9, 11, 13, 15, 17, 19]` . The function should then print the first 5 elements from the generated list.***\n",
    "\n",
    "- the function should print the squares of numbers like `[1, 9, 25, 49, 81]`.\n"
   ]
  },
  {
   "cell_type": "code",
   "execution_count": 12,
   "metadata": {},
   "outputs": [
    {
     "name": "stdout",
     "output_type": "stream",
     "text": [
      "[1, 9, 25, 49, 81]\n"
     ]
    }
   ],
   "source": [
    "def sqr():\n",
    "    x = [x**2 for x in range(1,19,2)]\n",
    "    print(x[0:5])\n",
    "    \n",
    "sqr()"
   ]
  },
  {
   "cell_type": "markdown",
   "metadata": {
    "deletable": false,
    "editable": false
   },
   "source": [
    "## Question 13\n",
    "\n",
    "\n",
    ">***Write a program that generates all possible sentences where the subject is chosen from `[\"She\", \"They\"]`, the verb is chosen from `[\"Watch\", \"Enjoy\"]`, and the object is chosen from `[\"Movies\", \"Series\"]`.***"
   ]
  },
  {
   "cell_type": "code",
   "execution_count": 13,
   "metadata": {},
   "outputs": [],
   "source": [
    "def all_posible_com():\n",
    "    a,b,c = [\"She\", \"They\"],[\"Watch\", \"Enjoy\"],[\"Movies\", \"Series\"]\n",
    "    \n",
    "    for x in a:\n",
    "        for y in b:\n",
    "            for z in c:\n",
    "                print(f\"{x} {y} {z}\")"
   ]
  },
  {
   "cell_type": "markdown",
   "metadata": {
    "deletable": false,
    "editable": false
   },
   "source": [
    "## Question 14\n",
    "\n",
    ">***Write a program to count the number of occurrences of each word in a given sentence.***"
   ]
  },
  {
   "cell_type": "code",
   "execution_count": 14,
   "metadata": {},
   "outputs": [
    {
     "name": "stdout",
     "output_type": "stream",
     "text": [
      "{'makes': 1, 'and': 2, 'hello': 2, 'practice': 1, 'world': 2, 'perfect': 1, 'again': 1}\n"
     ]
    }
   ],
   "source": [
    "def count_words(a:str):\n",
    "    x = list(set(a.split(\" \")))\n",
    "    print( {x:a.count(x) for x in x} )\n",
    "    \n",
    "\n",
    "count_words(\"hello world and practice makes perfect and hello world again\")\n",
    "    "
   ]
  },
  {
   "cell_type": "markdown",
   "metadata": {
    "deletable": false,
    "editable": false
   },
   "source": [
    "## Question 15\n",
    "\n",
    ">***Write a program to check if a number is a palindrome.***"
   ]
  },
  {
   "cell_type": "code",
   "execution_count": 15,
   "metadata": {},
   "outputs": [
    {
     "name": "stdout",
     "output_type": "stream",
     "text": [
      "True\n"
     ]
    }
   ],
   "source": [
    "def is_palindrome(a:int): print(str(a)==str(a)[::-1])\n",
    "\n",
    "is_palindrome(121)"
   ]
  },
  {
   "cell_type": "markdown",
   "metadata": {
    "deletable": false,
    "editable": false
   },
   "source": [
    "## Question 16\n",
    "\n",
    ">***With two given lists [1,3,6,78,35,55] and [12,24,35,24,88,120,155], write a program to make a list whose elements are intersection of the above given lists.***\n",
    "\n",
    "----------------------\n",
    "**Hints:** Use built-in function set() and `intersection()` method to do set intersection operation.\n",
    "\n",
    "**Example**:\n",
    "```python\n",
    "set1 = {1, 3, 6, 78, 35, 55}\n",
    "set2 = {12, 24, 35, 24, 55, 88, 120, 155}\n",
    "\n",
    "# Convert both lists to sets and find their intersection\n",
    "intersection = set1.intersection(set2)\n",
    "\n",
    "# Convert the resulting set back to a list\n",
    "result = list(intersection)\n",
    "print(intersection)  # Output: {35, 55}\n",
    "```\n",
    "\n",
    "In this example, the elements`35` and `55` are common to both lists, so it will be the only element in the intersection."
   ]
  },
  {
   "cell_type": "code",
   "execution_count": 16,
   "metadata": {},
   "outputs": [
    {
     "name": "stdout",
     "output_type": "stream",
     "text": [
      "[1, 3, 5, 7, 9]\n"
     ]
    }
   ],
   "source": [
    "\n",
    "def intersection(a:[int],b:[int]):\n",
    "    print( list(set(a).intersection(b)))\n",
    "intersection([1,2,3,4,5,6,7,8,9,10],[1,3,5,7,9])\n"
   ]
  },
  {
   "cell_type": "markdown",
   "metadata": {
    "deletable": false,
    "editable": false
   },
   "source": [
    "## Question 17\n",
    "\n",
    ">***Write a program to generate a 3x3 matrix where each element is 0.***"
   ]
  },
  {
   "cell_type": "code",
   "execution_count": 17,
   "metadata": {},
   "outputs": [],
   "source": [
    "def zeros_3_3():\n",
    "    print( [[0 for x in range(3)] for y in range(3)] )"
   ]
  },
  {
   "cell_type": "markdown",
   "metadata": {
    "deletable": false,
    "editable": false
   },
   "source": [
    "## Question 18\n",
    "\n",
    "> ***Write a program that takes a 2D matrix as input and prints its transpose. The transpose of a matrix is obtained by swapping rows with columns.***\n",
    "\n",
    "**Example**:\n",
    "```\n",
    "Input Matrix:\n",
    "[\n",
    "  [1, 2, 3],\n",
    "  [4, 5, 6],\n",
    "  [7, 8, 9]\n",
    "]\n",
    "\n",
    "Output Transpose:\n",
    "[\n",
    "  [1, 4, 7],\n",
    "  [2, 5, 8],\n",
    "  [3, 6, 9]\n",
    "]\n",
    "```\n",
    "\n",
    "---"
   ]
  },
  {
   "cell_type": "code",
   "execution_count": 18,
   "metadata": {},
   "outputs": [
    {
     "name": "stdout",
     "output_type": "stream",
     "text": [
      "[[1 4 7]\n",
      " [2 5 8]\n",
      " [3 6 9]]\n"
     ]
    }
   ],
   "source": [
    "import numpy as np\n",
    "\n",
    "def transpose_matrix(a:[[int]]):\n",
    "    print(np.array(a).T)\n",
    "\n",
    "transpose_matrix([[1,2,3],[4,5,6],[7,8,9]])"
   ]
  },
  {
   "cell_type": "markdown",
   "metadata": {
    "deletable": false,
    "editable": false
   },
   "source": [
    "## Question 19\n",
    "\n",
    ">***Write a program to compute the following sum for a given integer `n` (n > 0):***\n",
    "1/2 + 2/3 + 3/4 + ... + \\ n/(n+1) \n",
    "### Example:\n",
    "If the following `n` is given as input to the program:\n",
    "```\n",
    "5\n",
    "```\n",
    "\n",
    "Then, the output of the program should be:\n",
    "```\n",
    "3.55\n",
    "```"
   ]
  },
  {
   "cell_type": "code",
   "execution_count": 19,
   "metadata": {},
   "outputs": [
    {
     "name": "stdout",
     "output_type": "stream",
     "text": [
      "3.55\n"
     ]
    }
   ],
   "source": [
    "def sum_1_n(n: int) -> float:\n",
    "    if n < 1: return 0.0\n",
    "    return sum(i / (i + 1) for i in range(1, n + 1))\n",
    "\n",
    "print(sum_1_n(5))\n",
    "\n"
   ]
  },
  {
   "cell_type": "markdown",
   "metadata": {
    "deletable": false,
    "editable": false
   },
   "source": [
    "## Question 20\n",
    "\n",
    "> ***Write a program that multiplies two matrices. The program should take two matrices as input and output the resulting matrix after multiplication. Assume the matrices are compatible for multiplication.***\n",
    "\n",
    "**Example**:\n",
    "```\n",
    "Matrix A:\n",
    "[\n",
    "  [1, 2],\n",
    "  [3, 4],\n",
    "  [5, 6]\n",
    "]\n",
    "\n",
    "Matrix B:\n",
    "[\n",
    "  [7, 8, 9],\n",
    "  [10, 11, 12]\n",
    "]\n",
    "\n",
    "Output Matrix (A * B):\n",
    "[\n",
    "  [27, 30, 33],\n",
    "  [61, 68, 75],\n",
    "  [95, 106, 117]\n",
    "]\n",
    "```\n",
    "\n",
    "---"
   ]
  },
  {
   "cell_type": "code",
   "execution_count": 20,
   "metadata": {},
   "outputs": [
    {
     "name": "stdout",
     "output_type": "stream",
     "text": [
      "[[ 27  30  33]\n",
      " [ 61  68  75]\n",
      " [ 95 106 117]]\n"
     ]
    }
   ],
   "source": [
    "import numpy as np\n",
    "\n",
    "def matrix_mul(a:[[int]],b:[[int]]):\n",
    "    print(np.matmul(np.array(a),np.array(b)))\n",
    "\n",
    "matrix_mul([[1,2],[3,4],[5,6]],  [[7,8,9],[10,11,12]])"
   ]
  },
  {
   "cell_type": "markdown",
   "metadata": {
    "deletable": false,
    "editable": false
   },
   "source": [
    "## Question 21\n",
    "\n",
    ">***You are required to write a program to sort the (name, age, height) tuples by ascending order where name is string, age and height are numbers. The tuples are input by console.***\n",
    ">***The sort criteria is:\n",
    "1: Sort based on name;\n",
    "2: Then sort based on age;\n",
    "3: Then sort by score.\n",
    "The priority is that name > age > score.***\n",
    "If the following tuples are given as input to the program:\n",
    "\n",
    "```\n",
    "Tom,19,80\n",
    "John,20,90\n",
    "Jony,17,91\n",
    "Jony,17,93\n",
    "Json,21,85\n",
    "```\n",
    "Then, the output should be:\n",
    "```\n",
    "[('John', '20', '90'), ('Jony', '17', '91'), ('Jony', '17', '93'), ('Json', '21', '85'), ('Tom', '19', '80')]\n",
    "```\n"
   ]
  },
  {
   "cell_type": "code",
   "execution_count": 22,
   "metadata": {},
   "outputs": [
    {
     "name": "stdout",
     "output_type": "stream",
     "text": [
      "[('John', '20', '90'), ('John', '20', '90'), ('Jony', '17', '91'), ('Jony', '17', '93'), ('Json', '21', '85'), ('Tom', '19', '80')]\n"
     ]
    }
   ],
   "source": [
    "import operator\n",
    "def multi_sort(a):\n",
    "    s = sorted(a, key = operator.itemgetter(0,1, 2))\n",
    "    print(s)\n",
    "    \n",
    "multi_sort([ ('Tom', '19', '80'),('John', '20', '90'), ('Jony', '17', '91'), ('Jony', '17', '93'), ('John', '20', '90'), ('Json', '21', '85')]   )"
   ]
  },
  {
   "cell_type": "markdown",
   "metadata": {
    "deletable": false,
    "editable": false
   },
   "source": [
    "## Question 22\n",
    "\n",
    "\n",
    ">***Write a binary search function `binary_search(arr, target)` which searches an item in a sorted list. The function should return the index of element to be searched in the list.***"
   ]
  },
  {
   "cell_type": "code",
   "execution_count": 23,
   "metadata": {},
   "outputs": [
    {
     "name": "stdout",
     "output_type": "stream",
     "text": [
      "True\n",
      "False\n"
     ]
    }
   ],
   "source": [
    "def binary_search(arr,target):\n",
    "    l,m,r = 0,len(arr)//2,len(arr)-1\n",
    "    \n",
    "    while l < r: \n",
    "        if arr[m] > target: l,m = m, (l+m)//2\n",
    "        elif arr[m] < target: r,m = m, (l+m)//2\n",
    "        else : return True\n",
    "    \n",
    "    return False\n",
    "\n",
    "print( binary_search( [1,2,3,4,5,6] ,4) )\n",
    "print( binary_search( [1,2,3,4,5,6] ,10) )\n",
    "    "
   ]
  },
  {
   "cell_type": "markdown",
   "metadata": {
    "deletable": false,
    "editable": false
   },
   "source": [
    "## Question 23\n",
    "\n",
    ">***Write a program to print the elements of a matrix in a spiral order. The matrix should be traversed in a spiral starting from the top-left corner.***\n",
    "\n",
    "**Example**:\n",
    "```\n",
    "Input Matrix:\n",
    "[\n",
    "  [1, 2, 3, 4],\n",
    "  [5, 6, 7, 8],\n",
    "  [9, 10, 11, 12],\n",
    "  [13, 14, 15, 16]\n",
    "]\n",
    "\n",
    "Output (Spiral Order):\n",
    "1, 2, 3, 4, 8, 12, 16, 15, 14, 13, 9, 5, 6, 7, 11, 10\n",
    "```\n",
    "\n",
    "---"
   ]
  },
  {
   "cell_type": "code",
   "execution_count": 24,
   "metadata": {},
   "outputs": [
    {
     "name": "stdout",
     "output_type": "stream",
     "text": [
      "1, 2, 3, 4, 5, 6, 7, 8, 9, 10, 11, 12, 13, 14, 15, 16, "
     ]
    }
   ],
   "source": [
    "def spiral_order(arr:[[int]]):\n",
    "    for x in range (len(arr)):\n",
    "        for y in range(len(arr[0])):\n",
    "            print(arr[x][y],end=\", \")\n",
    "            \n",
    "spiral_order([\n",
    "  [1, 2, 3, 4],\n",
    "  [5, 6, 7, 8],\n",
    "  [9, 10, 11, 12],\n",
    "  [13, 14, 15, 16]\n",
    "])"
   ]
  },
  {
   "cell_type": "markdown",
   "metadata": {
    "deletable": false,
    "editable": false
   },
   "source": [
    "## Question 24\n",
    "\n",
    "\n",
    ">***You are given an integer, N. Your task is to print an alphabet rangoli of size N. (Rangoli is a form of Indian folk art based on creation of patterns.)***\n",
    "\n",
    ">***Different sizes of alphabet rangoli are shown below:***\n",
    ">```\n",
    ">#size 3\n",
    ">\n",
    ">----c----\n",
    ">--c-b-c--\n",
    ">c-b-a-b-c\n",
    ">--c-b-c--\n",
    ">----c----\n",
    ">\n",
    ">#size 5\n",
    ">\n",
    ">--------e--------\n",
    ">------e-d-e------\n",
    ">----e-d-c-d-e----\n",
    ">--e-d-c-b-c-d-e--\n",
    ">e-d-c-b-a-b-c-d-e\n",
    ">--e-d-c-b-c-d-e--\n",
    ">----e-d-c-d-e----\n",
    ">------e-d-e------\n",
    ">--------e--------\n",
    ">```\n",
    "### Hints \n",
    ">***First print the half of the Rangoli in the given way and save each line in a list. Then print the list in reverse order to get the rest.***"
   ]
  },
  {
   "cell_type": "code",
   "execution_count": 25,
   "metadata": {},
   "outputs": [
    {
     "name": "stdout",
     "output_type": "stream",
     "text": [
      "--b--\n",
      "b-a-b\n",
      "--b--\n",
      "--------e--------\n",
      "------e-d-e------\n",
      "----e-d-c-d-e----\n",
      "--e-d-c-b-c-d-e--\n",
      "e-d-c-b-a-b-c-d-e\n",
      "--e-d-c-b-c-d-e--\n",
      "----e-d-c-d-e----\n",
      "------e-d-e------\n",
      "--------e--------\n"
     ]
    }
   ],
   "source": [
    "import string\n",
    "\n",
    "def print_rangoli(size):\n",
    "    alpha = string.ascii_lowercase[:size]\n",
    "    lines = []\n",
    "    for i in range(size):\n",
    "        s = '-'.join(alpha[size-1:i:-1] + alpha[i:size]) # this should return : c-b-a-b-c\n",
    "        lines.append(s.center(4*size-3, '-'))            # this should return : --c-b-a-b-c--\n",
    "    print('\\n'.join(lines[::-1] + lines[1:]))\n",
    "\n",
    "print_rangoli(2)\n",
    "print_rangoli(5)"
   ]
  }
 ],
 "metadata": {
  "kernelspec": {
   "display_name": "Python 3",
   "language": "python",
   "name": "python3"
  },
  "language_info": {
   "codemirror_mode": {
    "name": "ipython",
    "version": 3
   },
   "file_extension": ".py",
   "mimetype": "text/x-python",
   "name": "python",
   "nbconvert_exporter": "python",
   "pygments_lexer": "ipython3",
   "version": "3.12.2"
  }
 },
 "nbformat": 4,
 "nbformat_minor": 4
}
