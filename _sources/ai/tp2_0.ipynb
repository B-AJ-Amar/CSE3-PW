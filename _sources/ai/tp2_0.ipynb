{
 "cells": [
  {
   "cell_type": "markdown",
   "id": "5b233842",
   "metadata": {},
   "source": [
    "## PW 2.0: Prolog In Python\n",
    "This notebook demonstrates how to use Pytholog to define and query a knowledge base for family relationships."
   ]
  },
  {
   "cell_type": "markdown",
   "id": "37c0b776-3501-44ba-be3f-390d56b7b1b5",
   "metadata": {},
   "source": [
    "## Import Pytholog library"
   ]
  },
  {
   "cell_type": "code",
   "execution_count": 1,
   "id": "e8fc42fd",
   "metadata": {},
   "outputs": [],
   "source": [
    "# Import the Pytholog library\n",
    "import pytholog as pl\n"
   ]
  },
  {
   "cell_type": "markdown",
   "id": "5d60d033-a458-4037-8d0f-7f68e06342f6",
   "metadata": {},
   "source": [
    "## Defining a Knowledge Base\n",
    "Let's create a knowledge base called 'family' and add facts about family relationships.\n",
    "\n",
    "- **Saleh** is a teacher\n",
    "- **Nora** is a teacher\n",
    "- **Saleh** is the father of **Jaber**\n",
    "- **Nora** is the mother of **Jaber**\n",
    "- **Hamza** is the father of **Saleh**"
   ]
  },
  {
   "cell_type": "code",
   "execution_count": 2,
   "id": "29041295",
   "metadata": {},
   "outputs": [],
   "source": [
    "# Create a new knowledge base named 'family'\n",
    "family_kb = pl.KnowledgeBase(\"family\")\n",
    "\n",
    "# Add facts about family relationships\n",
    "family_kb([\n",
    "    \"teacher(saleh)\",\n",
    "    \"teacher(nora)\",\n",
    "    \"father(saleh, jaber)\",\n",
    "    \"mother(nora, jaber)\",\n",
    "    \"father(hamza, saleh)\"\n",
    "])\n"
   ]
  },
  {
   "attachments": {},
   "cell_type": "markdown",
   "id": "5cffe691",
   "metadata": {},
   "source": [
    "## Adding Rules\n",
    "Now, let's add rules to define relationships based on the facts provided.\n",
    "- **X** is a parent of **Y** **if** **X** is the father of **Y** **or** **X** is the mother of **Y**.\n",
    "- **X** is a grandparent of **Y** **if** **X** is a parent of some **Z**, **and** this **Z** is a parent of **Y**\n",
    "\n"
   ]
  },
  {
   "cell_type": "code",
   "execution_count": 3,
   "id": "832a4aa2",
   "metadata": {},
   "outputs": [],
   "source": [
    "# Add rules to the knowledge base\n",
    "family_kb([\n",
    "    \"parent(X, Y) :- father(X, Y)\",\n",
    "    \"parent(X, Y) :- mother(X, Y)\",\n",
    "    \"grandparent(X, Y) :- parent(X, Z), parent(Z, Y)\"\n",
    "])\n"
   ]
  },
  {
   "cell_type": "markdown",
   "id": "b02ec351",
   "metadata": {},
   "source": [
    "## Querying the Knowledge Base\n",
    "We can now query the knowledge base to answer questions based on the facts and rules defined.\n"
   ]
  },
  {
   "cell_type": "code",
   "execution_count": 4,
   "id": "534d96e5",
   "metadata": {},
   "outputs": [
    {
     "name": "stdout",
     "output_type": "stream",
     "text": [
      "Who is Jaber's father?\n",
      "[{'X': 'saleh'}]\n"
     ]
    }
   ],
   "source": [
    "# Query examples\n",
    "print(\"Who is Jaber's father?\")\n",
    "print(family_kb.query(pl.Expr('father(X, jaber)')))"
   ]
  },
  {
   "cell_type": "code",
   "execution_count": 5,
   "id": "ff258c82-6734-4d89-a83c-c4d0c8e6d684",
   "metadata": {},
   "outputs": [
    {
     "name": "stdout",
     "output_type": "stream",
     "text": [
      "Is Nora the mother of Jaber?\n",
      "['Yes']\n"
     ]
    }
   ],
   "source": [
    "print(\"Is Nora the mother of Jaber?\")\n",
    "print(family_kb.query(pl.Expr('mother(nora, jaber)')))"
   ]
  },
  {
   "cell_type": "code",
   "execution_count": 6,
   "id": "27f4ba80-5bd7-47a6-9d29-28e21129903a",
   "metadata": {},
   "outputs": [
    {
     "name": "stdout",
     "output_type": "stream",
     "text": [
      "Does Hamza have a grandchild?\n",
      "[{'Y': 'jaber'}]\n"
     ]
    }
   ],
   "source": [
    "print(\"Does Hamza have a grandchild?\")\n",
    "print(family_kb.query(pl.Expr('grandparent(hamza, Y)')))\n"
   ]
  },
  {
   "cell_type": "code",
   "execution_count": 7,
   "id": "6454c509-863d-4ad0-b68e-5223d2137e7d",
   "metadata": {},
   "outputs": [
    {
     "name": "stdout",
     "output_type": "stream",
     "text": [
      "Who are the parents of Jaber?\n",
      "[{'X': 'saleh'}, {'X': 'nora'}]\n"
     ]
    }
   ],
   "source": [
    "print(\"Who are the parents of Jaber?\")\n",
    "print(family_kb.query(pl.Expr('parent(X, jaber)')))\n"
   ]
  },
  {
   "cell_type": "code",
   "execution_count": 8,
   "id": "2497ad75-8d33-4b6c-aaa6-8ab40a0230c4",
   "metadata": {},
   "outputs": [
    {
     "name": "stdout",
     "output_type": "stream",
     "text": [
      "Have Jaber a parents?\n"
     ]
    },
    {
     "data": {
      "text/plain": [
       "['Yes']"
      ]
     },
     "execution_count": 8,
     "metadata": {},
     "output_type": "execute_result"
    }
   ],
   "source": [
    "print(\"Have Jaber a parents?\")\n",
    "family_kb.query(pl.Expr('father(_, jaber)'))"
   ]
  },
  {
   "cell_type": "markdown",
   "id": "26a454a3-1151-47a5-892f-6bed7a02d929",
   "metadata": {},
   "source": [
    "## Negation\n",
    "\n",
    "**Negation (`not`)**: This operator is used to express that a fact or condition is **not true**. For example, if we want to define that a person is \"unhappy\" if they are **not** \"happy\", we use negation.\n",
    "\n",
    "Let's define a knowledge base where:\n",
    "1. **Hamza** is happy.\n",
    "2. **Saleh** is happy.\n",
    "3. A person **X** is unhappy if they are **not happpy**."
   ]
  },
  {
   "cell_type": "code",
   "execution_count": 9,
   "id": "772f06ec-b640-47dc-bbb8-3bf2df008140",
   "metadata": {},
   "outputs": [],
   "source": [
    "kb1 = pl.KnowledgeBase(\"test1\")\n",
    "# Add facts to the knowledge base\n",
    "kb1([\"happy(hamza)\",\n",
    "    \"happy(saleh)\"])\n",
    "\n",
    "# Define a rule with negation\n",
    "kb1([\"unhappy(X) :- not(happy(X))\"]) "
   ]
  },
  {
   "cell_type": "code",
   "execution_count": 11,
   "id": "1160b893-0738-4b78-b9d6-b9f8ca39f1f3",
   "metadata": {},
   "outputs": [
    {
     "data": {
      "text/plain": [
       "['No']"
      ]
     },
     "execution_count": 11,
     "metadata": {},
     "output_type": "execute_result"
    }
   ],
   "source": [
    "kb1.query(pl.Expr(\"unhappy(saleh)\"))"
   ]
  },
  {
   "cell_type": "markdown",
   "id": "dece5362-6ff9-4c3b-99c3-9e1b563f3a4d",
   "metadata": {},
   "source": [
    "## Not Equality\n",
    "\n",
    "**Not Equality (`neq(X, Y)`)**: To ensure that two variables are **not equal** (`X` is not equal to `Y`). This is useful for conditions where two entities must not be the same.\n",
    "\n",
    "Let's define a knowledge base where:\n",
    "\n",
    "1. **Hamza** likes **reading**.\n",
    "2. **Saleh** likes **reading**.\n",
    "3. **Ali** likes **cooking** \n",
    "4. **X** and **Y** are friends if they enjoy a common hobby but are not the same person"
   ]
  },
  {
   "cell_type": "code",
   "execution_count": 1,
   "id": "94bb47e5-5793-416f-ba88-cde18196caab",
   "metadata": {},
   "outputs": [
    {
     "ename": "NameError",
     "evalue": "name 'pl' is not defined",
     "output_type": "error",
     "traceback": [
      "\u001b[1;31m---------------------------------------------------------------------------\u001b[0m",
      "\u001b[1;31mNameError\u001b[0m                                 Traceback (most recent call last)",
      "Cell \u001b[1;32mIn[1], line 2\u001b[0m\n\u001b[0;32m      1\u001b[0m \u001b[38;5;66;03m# Add facts to the knowledge base\u001b[39;00m\n\u001b[1;32m----> 2\u001b[0m kb2 \u001b[38;5;241m=\u001b[39m \u001b[43mpl\u001b[49m\u001b[38;5;241m.\u001b[39mKnowledgeBase(\u001b[38;5;124m\"\u001b[39m\u001b[38;5;124mtest\u001b[39m\u001b[38;5;124m\"\u001b[39m)\n\u001b[0;32m      3\u001b[0m kb2([\u001b[38;5;124m\"\u001b[39m\u001b[38;5;124mlikes(hamza, reading)\u001b[39m\u001b[38;5;124m\"\u001b[39m,\n\u001b[0;32m      4\u001b[0m            \u001b[38;5;124m\"\u001b[39m\u001b[38;5;124mlikes(saleh, reading)\u001b[39m\u001b[38;5;124m\"\u001b[39m,\n\u001b[0;32m      5\u001b[0m            \u001b[38;5;124m\"\u001b[39m\u001b[38;5;124mlikes(ali, cooking)\u001b[39m\u001b[38;5;124m\"\u001b[39m])\n\u001b[0;32m      7\u001b[0m \u001b[38;5;66;03m# Define rule where X and Y are friends if they enjoy a common hobby but are not the same person\u001b[39;00m\n",
      "\u001b[1;31mNameError\u001b[0m: name 'pl' is not defined"
     ]
    }
   ],
   "source": [
    "# Add facts to the knowledge base\n",
    "kb2 = pl.KnowledgeBase(\"test\")\n",
    "kb2([\"likes(hamza, reading)\",\n",
    "           \"likes(saleh, reading)\",\n",
    "           \"likes(ali, cooking)\"])\n",
    "\n",
    "# Define rule where X and Y are friends if they enjoy a common hobby but are not the same person\n",
    "kb2([\"friends(X, Y) :- neq(X, Y), likes(X, H), likes(Y, H)\"]) \n"
   ]
  },
  {
   "cell_type": "code",
   "execution_count": 16,
   "id": "e74a752e-ca18-4390-9754-3a00a73cfe77",
   "metadata": {},
   "outputs": [
    {
     "data": {
      "text/plain": [
       "['Yes']"
      ]
     },
     "execution_count": 16,
     "metadata": {},
     "output_type": "execute_result"
    }
   ],
   "source": [
    "kb2.query(pl.Expr(\"friends(hamza, hamza)\"))"
   ]
  },
  {
   "cell_type": "code",
   "execution_count": null,
   "id": "9936cd06-6783-4e7c-b6e4-6bac219591b3",
   "metadata": {},
   "outputs": [],
   "source": []
  }
 ],
 "metadata": {
  "kernelspec": {
   "display_name": "Python 3",
   "language": "python",
   "name": "python3"
  },
  "language_info": {
   "codemirror_mode": {
    "name": "ipython",
    "version": 3
   },
   "file_extension": ".py",
   "mimetype": "text/x-python",
   "name": "python",
   "nbconvert_exporter": "python",
   "pygments_lexer": "ipython3",
   "version": "3.12.2"
  }
 },
 "nbformat": 4,
 "nbformat_minor": 5
}
