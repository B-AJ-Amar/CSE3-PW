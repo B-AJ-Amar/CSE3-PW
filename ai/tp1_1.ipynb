{
 "cells": [
  {
   "cell_type": "markdown",
   "id": "d571ffee",
   "metadata": {},
   "source": [
    "# PW 1.1 : Prolog Exercise - Family Relations"
   ]
  },
  {
   "cell_type": "markdown",
   "id": "caea77ed",
   "metadata": {},
   "source": [
    "\n",
    "This notebook translates a set of family relationships into Prolog syntax and then queries the knowledge base for specific relationships. The goal of exercise:\n",
    "1. Define the knowledge base with family relationships.\n",
    "2. Pose queries to retrieve information based on the knowledge base.\n"
   ]
  },
  {
   "cell_type": "markdown",
   "id": "20bb781d",
   "metadata": {},
   "source": [
    "## Step 1: Define the Knowledge Base"
   ]
  },
  {
   "cell_type": "markdown",
   "id": "cf6401db",
   "metadata": {},
   "source": [
    "\n",
    "Define the following family relationships:\n",
    "\n",
    "- **Adam's father is Mohamed.**\n",
    "- **Anes' father is Mohamed.**\n",
    "- **If two people have the same father or mother, they are siblings.**\n",
    "- **Asma's mother is Fatima.**\n",
    "- **Anes' mother is Fatima.**"
   ]
  },
  {
   "cell_type": "code",
   "execution_count": 61,
   "id": "350cda39",
   "metadata": {},
   "outputs": [],
   "source": [
    "# The Pytholog code for defining this knowledge base is shown below:\n",
    "import pytholog as pl\n",
    "\n",
    "# Create a new knowledge base named 'family'\n",
    "family_kb = pl.KnowledgeBase(\"family\")\n",
    "\n",
    "# Add facts about family relationships\n",
    "family_kb([\n",
    "    \"father(mohamed, adam)\",\n",
    "    \"father(mohamed, anes )\",\n",
    "    \n",
    "    \"mother(fatima, asma )\",\n",
    "    \"mother(fatima, anes )\",\n",
    "    \n",
    "    \n",
    "    \"siblings(X,Y) :-  father(Z,X), father(Z,Y) , neq(X,Y) \",\n",
    "    \"siblings(X,Y) :- mother(Z,X), mother(Z,Y) , neq(X,Y)\",\n",
    "])"
   ]
  },
  {
   "cell_type": "markdown",
   "id": "cfe8f0af",
   "metadata": {},
   "source": [
    "## Step 2: Query the Knowledge Base"
   ]
  },
  {
   "cell_type": "markdown",
   "id": "ab2957b3",
   "metadata": {},
   "source": [
    "### Query 1: Is Mohamed the father of Anes?"
   ]
  },
  {
   "cell_type": "code",
   "execution_count": 11,
   "id": "b5800d7d",
   "metadata": {},
   "outputs": [
    {
     "name": "stdout",
     "output_type": "stream",
     "text": [
      "['Yes']\n"
     ]
    }
   ],
   "source": [
    "\n",
    "# Query to check if Mohamed is the father of Anes\n",
    "print(family_kb.query(pl.Expr('father(mohamed, anes)')))\n"
   ]
  },
  {
   "cell_type": "markdown",
   "id": "f12fb28f",
   "metadata": {},
   "source": [
    "### Query 2: Is Asma a sister of Anes?"
   ]
  },
  {
   "cell_type": "code",
   "execution_count": 12,
   "id": "6831c125",
   "metadata": {},
   "outputs": [
    {
     "name": "stdout",
     "output_type": "stream",
     "text": [
      "['Yes']\n"
     ]
    }
   ],
   "source": [
    "\n",
    "# Query to check if Asma is a sister of Anes\n",
    "print(family_kb.query(pl.Expr('siblings(asma, anes)')))"
   ]
  },
  {
   "cell_type": "markdown",
   "id": "1baabb7c",
   "metadata": {},
   "source": [
    "### Query 3: Is Fatima the mother of Asma?"
   ]
  },
  {
   "cell_type": "code",
   "execution_count": 43,
   "id": "cc9a481e",
   "metadata": {},
   "outputs": [
    {
     "name": "stdout",
     "output_type": "stream",
     "text": [
      "['Yes']\n"
     ]
    }
   ],
   "source": [
    "\n",
    "# Query to check if Fatima is the mother of Asma\n",
    "print(family_kb.query(pl.Expr('mother(fatima, asma)')))\n"
   ]
  },
  {
   "cell_type": "markdown",
   "id": "5c787bd3",
   "metadata": {},
   "source": [
    "### Query 4: Fatima is the mother of?"
   ]
  },
  {
   "cell_type": "code",
   "execution_count": 44,
   "id": "4b0d1ac3",
   "metadata": {},
   "outputs": [
    {
     "name": "stdout",
     "output_type": "stream",
     "text": [
      "[{'X': 'asma'}, {'X': 'anes'}]\n"
     ]
    }
   ],
   "source": [
    "\n",
    "# Query to find out who Fatima is the mother of\n",
    "print(family_kb.query(pl.Expr('mother(fatima, X)')))\n"
   ]
  },
  {
   "cell_type": "markdown",
   "id": "2a4dbdd0",
   "metadata": {},
   "source": [
    "\n",
    "### Query 5: Anes the brother of?"
   ]
  },
  {
   "cell_type": "code",
   "execution_count": 63,
   "id": "fe5b4398",
   "metadata": {},
   "outputs": [
    {
     "name": "stdout",
     "output_type": "stream",
     "text": [
      "[{'X': 'adam'}, {'X': 'asma'}]\n"
     ]
    }
   ],
   "source": [
    "print(family_kb.query(pl.Expr('siblings(anes, X)')))\n",
    "\n"
   ]
  },
  {
   "cell_type": "markdown",
   "id": "fb3095a0",
   "metadata": {},
   "source": [
    "### Query 6: Who are all the siblings in this family?"
   ]
  },
  {
   "cell_type": "code",
   "execution_count": 64,
   "id": "88202b87",
   "metadata": {},
   "outputs": [
    {
     "name": "stdout",
     "output_type": "stream",
     "text": [
      "[{'X': 'adam', 'Y': 'anes'}, {'X': 'anes', 'Y': 'adam'}, {'X': 'asma', 'Y': 'anes'}, {'X': 'anes', 'Y': 'asma'}]\n"
     ]
    }
   ],
   "source": [
    "\n",
    "# Query to find all siblings in the family\n",
    "print(family_kb.query(pl.Expr('siblings(X, Y)')))\n",
    "\n"
   ]
  },
  {
   "cell_type": "code",
   "execution_count": null,
   "id": "900ea1d2-ac16-43a2-a81e-ab8b2f23496b",
   "metadata": {},
   "outputs": [],
   "source": []
  }
 ],
 "metadata": {
  "kernelspec": {
   "display_name": "Python 3",
   "language": "python",
   "name": "python3"
  },
  "language_info": {
   "codemirror_mode": {
    "name": "ipython",
    "version": 3
   },
   "file_extension": ".py",
   "mimetype": "text/x-python",
   "name": "python",
   "nbconvert_exporter": "python",
   "pygments_lexer": "ipython3",
   "version": "3.12.2"
  }
 },
 "nbformat": 4,
 "nbformat_minor": 5
}
