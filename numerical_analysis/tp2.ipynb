{
 "cells": [
  {
   "cell_type": "markdown",
   "metadata": {},
   "source": [
    "### PW2 : Int & Float\n"
   ]
  },
  {
   "cell_type": "markdown",
   "metadata": {},
   "source": [
    "#### Int "
   ]
  },
  {
   "cell_type": "code",
   "execution_count": 2,
   "metadata": {},
   "outputs": [
    {
     "name": "stdout",
     "output_type": "stream",
     "text": [
      "i = 100, type(i) = <class 'int'> , bit length = 7\n",
      "i = 10000000000000000000000000000000000000000000000000000000000000000000000000000000000000000000000000000000000000000000000000000000000000000000000000000000000000000000000000000000000000000000000000000000000000000000000000000000000000000000000000000000000000000000000000000000000000000000000000000000000000000000000000000000000000000000000000000000000000000000000000000000000000000000000000000000000000000, type(i) = <class 'int'> , bit length = 1329\n"
     ]
    }
   ],
   "source": [
    "i = 100\n",
    "print(f\"i = {i}, type(i) = {type(i)} , bit length = {i.bit_length()}\")\n",
    "i = 100**200\n",
    "print(f\"i = {i}, type(i) = {type(i)} , bit length = {i.bit_length()}\")\n"
   ]
  },
  {
   "cell_type": "code",
   "execution_count": 30,
   "metadata": {},
   "outputs": [
    {
     "name": "stdout",
     "output_type": "stream",
     "text": [
      "i = 120,  info(i) = Machine parameters for int8\n",
      "---------------------------------------------------------------\n",
      "min = -128\n",
      "max = 127\n",
      "---------------------------------------------------------------\n",
      "\n",
      "<class 'numpy.int32'>\n",
      "-56\n"
     ]
    },
    {
     "name": "stderr",
     "output_type": "stream",
     "text": [
      "C:\\Users\\Dell\\AppData\\Local\\Temp\\ipykernel_9744\\1540788497.py:11: RuntimeWarning: overflow encountered in scalar add\n",
      "  print(i+j) # overflow\n"
     ]
    }
   ],
   "source": [
    "import numpy as np\n",
    "\n",
    "i = np.int8(120)\n",
    "j = np.int8(80)\n",
    "k = np.uint8(80)\n",
    "\n",
    "print(f\"i = {i},  info(i) = {np.iinfo(i)}\")\n",
    "\n",
    "print(type(i+10))\n",
    "\n",
    "print(i+j) # overflow\n",
    "\n"
   ]
  },
  {
   "cell_type": "markdown",
   "metadata": {},
   "source": [
    "#### Float\n"
   ]
  },
  {
   "cell_type": "code",
   "execution_count": 28,
   "metadata": {},
   "outputs": [
    {
     "name": "stdout",
     "output_type": "stream",
     "text": [
      "x+1e-8 = 1.000000000000000e+00\n",
      "x+float32(1e50) = inf\n",
      "x+1e50 = 1.000000000000000e+00\n",
      "y+1e-8 = 1.000000010000000e+00\n",
      "y+1e50 = 1.000000000000000e+50\n"
     ]
    },
    {
     "name": "stderr",
     "output_type": "stream",
     "text": [
      "C:\\Users\\Dell\\AppData\\Local\\Temp\\ipykernel_9744\\3906295119.py:3: RuntimeWarning: overflow encountered in cast\n",
      "  print(f\"x+float32(1e50) = {x+np.float32(1e50):1.15e}\")\n"
     ]
    }
   ],
   "source": [
    "x = np.float32(1.0)\n",
    "print(f\"x+1e-8 = {x+np.float32(1e-8):1.15e}\")\n",
    "print(f\"x+float32(1e50) = {x+np.float32(1e50):1.15e}\")\n",
    "print(f\"x+1e50 = {x+1e-50:1.15e}\")\n",
    "\n",
    "y = np.float64(1.0)\n",
    "print(f\"y+1e-8 = {y+np.float64(1e-8):1.15e}\")\n",
    "print(f\"y+1e50 = {y+1e50:1.15e}\")"
   ]
  },
  {
   "cell_type": "code",
   "execution_count": null,
   "metadata": {},
   "outputs": [],
   "source": []
  },
  {
   "cell_type": "code",
   "execution_count": null,
   "metadata": {},
   "outputs": [],
   "source": []
  }
 ],
 "metadata": {
  "kernelspec": {
   "display_name": "Python 3",
   "language": "python",
   "name": "python3"
  },
  "language_info": {
   "codemirror_mode": {
    "name": "ipython",
    "version": 3
   },
   "file_extension": ".py",
   "mimetype": "text/x-python",
   "name": "python",
   "nbconvert_exporter": "python",
   "pygments_lexer": "ipython3",
   "version": "3.12.2"
  }
 },
 "nbformat": 4,
 "nbformat_minor": 2
}
