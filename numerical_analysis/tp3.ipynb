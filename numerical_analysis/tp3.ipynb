{
 "cells": [
  {
   "cell_type": "markdown",
   "metadata": {},
   "source": [
    "# Serie 1"
   ]
  },
  {
   "cell_type": "markdown",
   "metadata": {},
   "source": [
    "#### Exercice 1"
   ]
  },
  {
   "cell_type": "code",
   "execution_count": 10,
   "metadata": {},
   "outputs": [
    {
     "name": "stdout",
     "output_type": "stream",
     "text": [
      " n=3 : 1.3611111111111112\n"
     ]
    }
   ],
   "source": [
    "def sum_of_series(n):\n",
    "    return sum(1 / i**2 for i in range(1, n + 1))\n",
    "\n",
    "n=3\n",
    "result = sum_of_series(n)\n",
    "print(f\" n={n} : {result}\")"
   ]
  },
  {
   "cell_type": "code",
   "execution_count": 14,
   "metadata": {},
   "outputs": [
    {
     "name": "stdout",
     "output_type": "stream",
     "text": [
      "1 = True\n",
      "2 = True\n",
      "3 = True\n",
      "4 = True\n",
      "5 = True\n",
      "6 = True\n",
      "7 = True\n",
      "8 = True\n",
      "9 = False\n",
      "10 = False\n",
      "11 = False\n",
      "12 = False\n",
      "13 = False\n",
      "14 = False\n",
      "15 = False\n",
      "16 = False\n",
      "17 = False\n",
      "18 = False\n",
      "19 = False\n",
      "20 = False\n",
      "21 = False\n",
      "22 = False\n",
      "23 = False\n",
      "24 = False\n",
      "25 = False\n",
      "26 = False\n",
      "27 = False\n",
      "28 = False\n",
      "29 = False\n",
      "30 = False\n",
      "31 = False\n",
      "32 = False\n",
      "33 = False\n",
      "34 = False\n",
      "35 = False\n",
      "36 = False\n",
      "37 = False\n",
      "38 = False\n",
      "39 = False\n",
      "40 = False\n",
      "41 = False\n",
      "42 = False\n",
      "43 = False\n",
      "44 = False\n",
      "45 = False\n",
      "46 = False\n",
      "47 = False\n",
      "48 = False\n",
      "49 = False\n",
      "50 = False\n",
      "51 = False\n",
      "52 = False\n",
      "53 = False\n",
      "54 = False\n",
      "55 = False\n",
      "56 = False\n",
      "57 = False\n",
      "58 = False\n",
      "59 = False\n",
      "60 = False\n",
      "61 = False\n",
      "62 = False\n",
      "63 = False\n",
      "64 = False\n",
      "65 = False\n",
      "66 = False\n",
      "67 = False\n",
      "68 = False\n",
      "69 = False\n",
      "70 = False\n",
      "71 = False\n",
      "72 = False\n",
      "73 = False\n",
      "74 = False\n",
      "75 = False\n",
      "76 = False\n",
      "77 = False\n",
      "78 = False\n",
      "79 = False\n",
      "80 = False\n",
      "81 = False\n",
      "82 = False\n",
      "83 = False\n",
      "84 = False\n",
      "85 = False\n",
      "86 = False\n",
      "87 = False\n",
      "88 = False\n",
      "89 = False\n",
      "90 = False\n",
      "91 = False\n",
      "92 = False\n",
      "93 = False\n",
      "94 = False\n",
      "95 = False\n",
      "96 = False\n",
      "97 = False\n",
      "98 = False\n",
      "99 = False\n"
     ]
    }
   ],
   "source": [
    "def solve_equation(n:int):\n",
    "    if (10**n + 10**-n) / 10**n != 1: return True\n",
    "    return False\n",
    "\n",
    "for i in range(1, 100):\n",
    "    solutions = solve_equation(i)\n",
    "    print(f\"{i} = {solutions}\")"
   ]
  },
  {
   "cell_type": "markdown",
   "metadata": {},
   "source": [
    "#### Exercice 2"
   ]
  },
  {
   "cell_type": "code",
   "execution_count": 2,
   "metadata": {},
   "outputs": [
    {
     "name": "stdout",
     "output_type": "stream",
     "text": [
      "False\n"
     ]
    }
   ],
   "source": [
    "import math\n",
    "\n",
    "print(math.sqrt(2)*math.sqrt(2) == 2)"
   ]
  },
  {
   "cell_type": "code",
   "execution_count": 11,
   "metadata": {},
   "outputs": [
    {
     "name": "stdout",
     "output_type": "stream",
     "text": [
      "1.7976931348623157e+308 \n",
      " 2.2250738585072014e-308 \n",
      " 0x1.fffffffffffffp+1023 \n",
      " 0x1.0000000000000p-1022\n"
     ]
    }
   ],
   "source": [
    "import sys\n",
    "\n",
    "print(f\"{sys.float_info.max} \\n {sys.float_info.min} \\n {float.hex(sys.float_info.max)} \\n {float.hex(sys.float_info.min)}\")"
   ]
  },
  {
   "cell_type": "markdown",
   "metadata": {},
   "source": [
    "#### Exercice 3"
   ]
  },
  {
   "cell_type": "code",
   "execution_count": null,
   "metadata": {},
   "outputs": [
    {
     "name": "stdout",
     "output_type": "stream",
     "text": [
      "(a+b)+c = 1.0\n",
      "a+(b+c) = 0.0\n"
     ]
    }
   ],
   "source": [
    "a ,b ,c = -1e30 ,1e30 ,1.\n",
    "print(f\"(a+b)+c = {a+b+c}\\na+(b+c) = {a+(b+c)}\")\n"
   ]
  },
  {
   "cell_type": "code",
   "execution_count": 18,
   "metadata": {},
   "outputs": [
    {
     "name": "stdout",
     "output_type": "stream",
     "text": [
      "(d+e)+f = 1\n",
      "d+(e+f) = 1\n"
     ]
    }
   ],
   "source": [
    "d ,e ,f = -10**30 ,10**30 ,1\n",
    "print(f\"(d+e)+f = {d+e+f}\\nd+(e+f) = {d+(e+f)}\")"
   ]
  },
  {
   "cell_type": "code",
   "execution_count": 23,
   "metadata": {},
   "outputs": [
    {
     "name": "stdout",
     "output_type": "stream",
     "text": [
      "(-3.0,)\n",
      "()\n"
     ]
    }
   ],
   "source": [
    "from math import sqrt\n",
    "\n",
    "def solve_quadratic(a, b, c):\n",
    "    delta = b**2 - 4*a*c\n",
    "    print(f\"delta = {delta}\")\n",
    "    \n",
    "    if delta < 0:\n",
    "        return ()\n",
    "    elif delta == 0:\n",
    "        return (-b / (2*a), )\n",
    "    else:\n",
    "        return ((-b - sqrt(delta)) / (2*a), (-b + sqrt(delta)) / (2*a))\n",
    "\n",
    "\n",
    "print(solve_quadratic(1, 6, 9))\n",
    "\n",
    "print(solve_quadratic(0.1, 0.6, 0.9))\n"
   ]
  },
  {
   "cell_type": "markdown",
   "metadata": {},
   "source": [
    "#### Exercice 4"
   ]
  },
  {
   "cell_type": "code",
   "execution_count": 13,
   "metadata": {},
   "outputs": [
    {
     "name": "stdout",
     "output_type": "stream",
     "text": [
      "0.2 \n",
      " 0.30000000000000004 \n",
      " False \n",
      " True\n"
     ]
    }
   ],
   "source": [
    "print(f\"{(0.1 + 0.1)} \\n {(0.1 + 0.1 + 0.1) } \\n {(0.1 + 0.1 + 0.1) == 0.3} \\n {(0.1 + 0.1) == 0.2 }\")"
   ]
  },
  {
   "cell_type": "markdown",
   "metadata": {},
   "source": [
    "#### Exercice 6"
   ]
  },
  {
   "cell_type": "code",
   "execution_count": 42,
   "metadata": {},
   "outputs": [
    {
     "name": "stdout",
     "output_type": "stream",
     "text": [
      "sum1 for n=100000 is 12.090146129863335\n",
      "sum2 for n=100000 is 12.090146129863408\n",
      "sum1(n) == sum2(n) is False \n",
      " sum1 , sum2 = 12.090146129863335 , 12.090146129863408 \n",
      " sum1 - sum2 = 7.283063041541027e-14\n"
     ]
    }
   ],
   "source": [
    "def sum1(n):\n",
    "    total = 0\n",
    "    for i in range(1, n + 1):\n",
    "        total += 1 / float(i)\n",
    "    return total\n",
    "def sum2(n):\n",
    "    total = 0\n",
    "    for i in range(n ,0 ,-1):\n",
    "        total += 1 / float(i)\n",
    "    return total\n",
    "\n",
    "n = 100000\n",
    "result = sum1(n)\n",
    "print(f\"sum1 for n={n} is {result}\")\n",
    "result = sum2(n)\n",
    "print(f\"sum2 for n={n} is {result}\")\n",
    "print(f\"sum1(n) == sum2(n) is {sum1(n) == sum2(n)} \\n sum1 , sum2 = {sum1(n)} , {sum2(n)} \\n sum1 - sum2 = {sum2(n) - sum1(n)}\")"
   ]
  },
  {
   "cell_type": "markdown",
   "metadata": {},
   "source": [
    "#### Exercice 7"
   ]
  },
  {
   "cell_type": "code",
   "execution_count": 30,
   "metadata": {},
   "outputs": [
    {
     "name": "stdout",
     "output_type": "stream",
     "text": [
      "Int8 ========================================\n",
      "0! = 1\n",
      "1! = 1\n",
      "2! = 2\n",
      "3! = 6\n",
      "4! = 24\n",
      "5! = 120\n",
      "6! = 720\n",
      "7! = 5040\n",
      "8! = 40320\n",
      "9! = 362880\n",
      "10! = 3628800\n",
      "11! = 39916800\n",
      "12! = 479001600\n",
      "13! = 1932053504\n",
      "14! = 1278945280\n",
      "15! = 2004310016\n",
      "16! = 2004189184\n",
      "17! = -288522240\n",
      "18! = -898433024\n",
      "19! = 109641728\n",
      "20! = -2102132736\n",
      "21! = -1195114496\n",
      "22! = -522715136\n",
      "Int16 ========================================\n",
      "0! = 1\n",
      "1! = 1\n",
      "2! = 2\n",
      "3! = 6\n",
      "4! = 24\n",
      "5! = 120\n",
      "6! = 720\n",
      "7! = 5040\n",
      "8! = 40320\n",
      "9! = 362880\n",
      "10! = 3628800\n",
      "11! = 39916800\n",
      "12! = 479001600\n",
      "13! = 1932053504\n",
      "14! = 1278945280\n",
      "15! = 2004310016\n",
      "16! = 2004189184\n",
      "17! = -288522240\n",
      "18! = -898433024\n",
      "19! = 109641728\n",
      "20! = -2102132736\n",
      "21! = -1195114496\n",
      "22! = -522715136\n",
      "Int32 ========================================\n",
      "0! = 1\n",
      "1! = 1\n",
      "2! = 2\n",
      "3! = 6\n",
      "4! = 24\n",
      "5! = 120\n",
      "6! = 720\n",
      "7! = 5040\n",
      "8! = 40320\n",
      "9! = 362880\n",
      "10! = 3628800\n",
      "11! = 39916800\n",
      "12! = 479001600\n",
      "13! = 1932053504\n",
      "14! = 1278945280\n",
      "15! = 2004310016\n",
      "16! = 2004189184\n",
      "17! = -288522240\n",
      "18! = -898433024\n",
      "19! = 109641728\n",
      "20! = -2102132736\n",
      "21! = -1195114496\n",
      "22! = -522715136\n",
      "int64 ========================================\n",
      "0! = 1\n",
      "1! = 1\n",
      "2! = 2\n",
      "3! = 6\n",
      "4! = 24\n",
      "5! = 120\n",
      "6! = 720\n",
      "7! = 5040\n",
      "8! = 40320\n",
      "9! = 362880\n",
      "10! = 3628800\n",
      "11! = 39916800\n",
      "12! = 479001600\n",
      "13! = 6227020800\n",
      "14! = 87178291200\n",
      "15! = 1307674368000\n",
      "16! = 20922789888000\n",
      "17! = 355687428096000\n",
      "18! = 6402373705728000\n",
      "19! = 121645100408832000\n",
      "20! = 2432902008176640000\n",
      "21! = -4249290049419214848\n",
      "22! = -1250660718674968576\n",
      "int ========================================\n",
      "0! = 1\n",
      "1! = 1\n",
      "2! = 2\n",
      "3! = 6\n",
      "4! = 24\n",
      "5! = 120\n",
      "6! = 720\n",
      "7! = 5040\n",
      "8! = 40320\n",
      "9! = 362880\n",
      "10! = 3628800\n",
      "11! = 39916800\n",
      "12! = 479001600\n",
      "13! = 6227020800\n",
      "14! = 87178291200\n",
      "15! = 1307674368000\n",
      "16! = 20922789888000\n",
      "17! = 355687428096000\n",
      "18! = 6402373705728000\n",
      "19! = 121645100408832000\n",
      "20! = 2432902008176640000\n",
      "21! = 51090942171709440000\n",
      "22! = 1124000727777607680000\n"
     ]
    },
    {
     "name": "stderr",
     "output_type": "stream",
     "text": [
      "C:\\Users\\Dell\\AppData\\Local\\Temp\\ipykernel_6496\\4218263302.py:3: RuntimeWarning: overflow encountered in scalar multiply\n",
      "  return 1 if n == 0 else n * recursive_factorial(n - 1)\n"
     ]
    }
   ],
   "source": [
    "import numpy as np\n",
    "def recursive_factorial(n):\n",
    "    return 1 if n == 0 else n * recursive_factorial(n - 1)\n",
    "\n",
    "print(f\"Int8 ========================================\")\n",
    "for i in range(23):\n",
    "    print(f\"{i}! = {recursive_factorial(np.int8(i))}\")\n",
    "print(f\"Int16 ========================================\")\n",
    "for i in range(23):\n",
    "    print(f\"{i}! = {recursive_factorial(np.int16(i))}\")\n",
    "print(f\"Int32 ========================================\")\n",
    "for i in range(23):\n",
    "    print(f\"{i}! = {recursive_factorial(np.int32(i))}\")\n",
    "    \n",
    "print(f\"int64 ========================================\")\n",
    "for i in range(23):\n",
    "    print(f\"{i}! = {recursive_factorial(np.int64(i))}\")\n",
    "    \n",
    "    \n",
    "print(f\"int ========================================\")\n",
    "for i in range(23):\n",
    "    print(f\"{i}! = {recursive_factorial(i)}\")\n",
    "    "
   ]
  },
  {
   "cell_type": "code",
   "execution_count": null,
   "metadata": {},
   "outputs": [],
   "source": []
  },
  {
   "cell_type": "code",
   "execution_count": null,
   "metadata": {},
   "outputs": [],
   "source": []
  }
 ],
 "metadata": {
  "kernelspec": {
   "display_name": "Python 3",
   "language": "python",
   "name": "python3"
  },
  "language_info": {
   "codemirror_mode": {
    "name": "ipython",
    "version": 3
   },
   "file_extension": ".py",
   "mimetype": "text/x-python",
   "name": "python",
   "nbconvert_exporter": "python",
   "pygments_lexer": "ipython3",
   "version": "3.12.2"
  }
 },
 "nbformat": 4,
 "nbformat_minor": 2
}
